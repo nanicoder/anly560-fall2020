{
 "cells": [
  {
   "cell_type": "code",
   "execution_count": null,
   "metadata": {},
   "outputs": [],
   "source": [
    "import pymysql\n",
    "\n",
    "db = pymysql.connect(\"localhost\", \"root\", \"\", \"sakila\")\n",
    "cursor = db.cursor()\n",
    "sql = \"\"\"select distinct sf.title, sf.description, sa.first_name, sa.last_name from sakila.film as sf\n",
    "left join sakila.film_actor as sfa on sf.film_id = sfa.film_id\n",
    "left join sakila.actor as sa on sa.actor_id = sfa.actor_id \n",
    "where sf.title like 'BL%'\"\"\"\n",
    "\n",
    "try:\n",
    "    cursor.execute(sql)\n",
    "    results = cursor.fetchall()\n",
    "\n",
    "    print(\"title\\tdescription\\tfirst_name\\tlast_name\")\n",
    "\n",
    "    for column in results:\n",
    "        title = column[0]\n",
    "        description = column[1]\n",
    "        first_name = column[2]\n",
    "        last_name = column[3]\n",
    "        data_array = np.array([title, description, first_name, last_name])\n",
    "\n",
    "        print(\"%s\\t%s\\t%s\\t%s\" % \\\n",
    "              (title, description, first_name, last_name))\n",
    "except:\n",
    "    print(\"ERROR: unable to fetch data\")\n",
    "\n",
    "db.close()"
   ]
  },
  {
   "cell_type": "code",
   "execution_count": null,
   "metadata": {},
   "outputs": [],
   "source": []
  }
 ],
 "metadata": {
  "kernelspec": {
   "display_name": "Python 3",
   "language": "python",
   "name": "python3"
  },
  "language_info": {
   "codemirror_mode": {
    "name": "ipython",
    "version": 3
   },
   "file_extension": ".py",
   "mimetype": "text/x-python",
   "name": "python",
   "nbconvert_exporter": "python",
   "pygments_lexer": "ipython3",
   "version": "3.8.3"
  }
 },
 "nbformat": 4,
 "nbformat_minor": 4
}

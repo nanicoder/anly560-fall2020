{
 "cells": [
  {
   "cell_type": "code",
   "execution_count": 1,
   "metadata": {},
   "outputs": [
    {
     "name": "stdout",
     "output_type": "stream",
     "text": [
      "this is the if true part\n"
     ]
    }
   ],
   "source": [
    "##If else statement\n",
    "\n",
    "x=10\n",
    "if x < 20:\n",
    "    print(\"this is the if true part\")\n",
    "else:\n",
    "    print(\"this is if else (false) part\")"
   ]
  },
  {
   "cell_type": "code",
   "execution_count": 5,
   "metadata": {},
   "outputs": [
    {
     "name": "stdout",
     "output_type": "stream",
     "text": [
      "Invalid day\n"
     ]
    }
   ],
   "source": [
    "##Switch statement\n",
    "\n",
    "def switch_test(arg):\n",
    "    ##day_string = \"\"\n",
    "    day_dict = {\n",
    "        0: \"Monday\",\n",
    "        1: \"Tuesday\",\n",
    "        2: \"Wednesday\",\n",
    "        3: \"Thursday\",\n",
    "        4: \"Friday\",\n",
    "        5: \"Saturday\",\n",
    "        6: \"Sunday\"\n",
    "    }\n",
    "    print(day_dict.get(arg, \"Invalid day\"))\n",
    "    \n",
    "switch_test(8)"
   ]
  },
  {
   "cell_type": "code",
   "execution_count": 6,
   "metadata": {},
   "outputs": [
    {
     "name": "stdout",
     "output_type": "stream",
     "text": [
      "Value of the z in loop:  0\n",
      "Value of the z in loop:  1\n",
      "Value of the z in loop:  2\n",
      "Value of the z in loop:  3\n",
      "Value of the z in loop:  4\n",
      "Value of the z in loop:  5\n",
      "Value of the z in loop:  6\n",
      "Value of the z in loop:  7\n",
      "Value of the z in loop:  8\n",
      "Value of the z in loop:  9\n",
      "Value of the z in loop:  10\n",
      "Value of the z in loop:  11\n",
      "Value of the z in loop:  12\n",
      "Value of the z in loop:  13\n",
      "Value of the z in loop:  14\n",
      "Value of the z in loop:  15\n",
      "Value of the z in loop:  16\n",
      "Value of the z in loop:  17\n",
      "Value of the z in loop:  18\n",
      "Value of the z in loop:  19\n"
     ]
    }
   ],
   "source": [
    "##For loop\n",
    "for z in range(20):\n",
    "    print(\"Value of the z in loop: \", z)"
   ]
  },
  {
   "cell_type": "code",
   "execution_count": null,
   "metadata": {},
   "outputs": [],
   "source": []
  }
 ],
 "metadata": {
  "kernelspec": {
   "display_name": "Python 3",
   "language": "python",
   "name": "python3"
  },
  "language_info": {
   "codemirror_mode": {
    "name": "ipython",
    "version": 3
   },
   "file_extension": ".py",
   "mimetype": "text/x-python",
   "name": "python",
   "nbconvert_exporter": "python",
   "pygments_lexer": "ipython3",
   "version": "3.8.3"
  }
 },
 "nbformat": 4,
 "nbformat_minor": 4
}

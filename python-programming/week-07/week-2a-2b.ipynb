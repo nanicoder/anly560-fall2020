{
 "cells": [
  {
   "cell_type": "code",
   "execution_count": 40,
   "metadata": {},
   "outputs": [],
   "source": [
    "import csv\n",
    "import pymysql"
   ]
  },
  {
   "cell_type": "code",
   "execution_count": 41,
   "metadata": {},
   "outputs": [],
   "source": [
    "maleRunners = []\n",
    "femaleRunners = []\n",
    "maleResults = []\n",
    "femaleResults = []\n",
    "marathonFemaleInfo = []"
   ]
  },
  {
   "cell_type": "code",
   "execution_count": 42,
   "metadata": {},
   "outputs": [
    {
     "name": "stdout",
     "output_type": "stream",
     "text": [
      "0\n",
      "0\n",
      "0\n",
      "0\n"
     ]
    }
   ],
   "source": [
    "print(len(femaleRunners))\n",
    "print(len(maleRunners))\n",
    "print(len(maleResults))\n",
    "print(len(femaleResults))"
   ]
  },
  {
   "cell_type": "code",
   "execution_count": 43,
   "metadata": {},
   "outputs": [],
   "source": [
    "#open the csv files to open the data\n",
    "with open(\"/Users/pradeeppaladugula/Documents/GitHub/anly560-fall2020/python-programming/week-07/data/femaleRunners.csv\", 'r') as fptr:\n",
    "    reader = csv.reader(fptr)\n",
    "    for row in reader:\n",
    "        femaleRunners.append(row)\n",
    "            \n",
    "with open(\"/Users/pradeeppaladugula/Documents/GitHub/anly560-fall2020/python-programming/week-07/data/maleRunners.csv\", 'r') as fptr: \n",
    "    reader = csv.reader(fptr)\n",
    "    for row in reader:\n",
    "        maleRunners.append(row)\n",
    "        \n",
    "with open(\"/Users/pradeeppaladugula/Documents/GitHub/anly560-fall2020/python-programming/week-07/data/marathonFemaleInfo.csv\", 'r') as fptr:\n",
    "    reader = csv.reader(fptr)\n",
    "    for row in reader:\n",
    "        femaleResults.append(row)\n",
    "        \n",
    "with open(\"/Users/pradeeppaladugula/Documents/GitHub/anly560-fall2020/python-programming/week-07/data/marathonMaleInfo.csv\", 'r') as fptr:\n",
    "    reader = csv.reader(fptr)\n",
    "    for row in reader:\n",
    "        maleResults.append(row)\n",
    "        "
   ]
  },
  {
   "cell_type": "code",
   "execution_count": 44,
   "metadata": {},
   "outputs": [
    {
     "name": "stdout",
     "output_type": "stream",
     "text": [
      "29\n",
      "30\n",
      "30\n",
      "31\n"
     ]
    }
   ],
   "source": [
    "print(len(femaleRunners))\n",
    "print(len(maleRunners))\n",
    "print(len(femaleResults))\n",
    "print(len(maleResults))"
   ]
  },
  {
   "cell_type": "markdown",
   "metadata": {},
   "source": [
    "# connect to Marathon DB"
   ]
  },
  {
   "cell_type": "code",
   "execution_count": 45,
   "metadata": {},
   "outputs": [],
   "source": [
    "db = pymysql.connect(host = \"localhost\", user = \"marathonuser\", password = \"test123\", db = \"marathondb\")\n",
    "cursor = db.cursor()"
   ]
  },
  {
   "cell_type": "code",
   "execution_count": 46,
   "metadata": {},
   "outputs": [
    {
     "name": "stdout",
     "output_type": "stream",
     "text": [
      "Loop number:  0\n",
      "Did not insert into marathon tale item: 1\n",
      "Loop number:  1\n",
      "Did not insert into marathon tale item: 2\n",
      "Loop number:  2\n",
      "Did not insert into marathon tale item: 3\n",
      "Loop number:  3\n",
      "Did not insert into marathon tale item: 4\n",
      "Loop number:  4\n",
      "Did not insert into marathon tale item: 5\n",
      "Loop number:  5\n",
      "Did not insert into marathon tale item: 6\n",
      "Loop number:  6\n",
      "Did not insert into marathon tale item: 7\n",
      "Loop number:  7\n",
      "Did not insert into marathon tale item: 8\n",
      "Loop number:  8\n",
      "Did not insert into marathon tale item: 9\n",
      "Loop number:  9\n",
      "Did not insert into marathon tale item: 10\n",
      "Loop number:  10\n",
      "Did not insert into marathon tale item: 11\n",
      "Loop number:  11\n",
      "Did not insert into marathon tale item: 12\n",
      "Loop number:  12\n",
      "Did not insert into marathon tale item: 13\n",
      "Loop number:  13\n",
      "Did not insert into marathon tale item: 14\n",
      "Loop number:  14\n",
      "Did not insert into marathon tale item: 15\n",
      "Loop number:  15\n",
      "Did not insert into marathon tale item: 16\n",
      "Loop number:  16\n",
      "Did not insert into marathon tale item: 17\n",
      "Loop number:  17\n",
      "Did not insert into marathon tale item: 18\n",
      "Loop number:  18\n",
      "Did not insert into marathon tale item: 19\n",
      "Loop number:  19\n",
      "Did not insert into marathon tale item: 20\n",
      "Loop number:  20\n",
      "Did not insert into marathon tale item: 21\n",
      "Loop number:  21\n",
      "Did not insert into marathon tale item: 22\n",
      "Loop number:  22\n",
      "Did not insert into marathon tale item: 23\n",
      "Loop number:  23\n",
      "Did not insert into marathon tale item: 24\n",
      "Loop number:  24\n",
      "Did not insert into marathon tale item: 25\n",
      "Loop number:  25\n",
      "Did not insert into marathon tale item: 26\n",
      "Loop number:  26\n",
      "Did not insert into marathon tale item: 27\n",
      "Loop number:  27\n",
      "Did not insert into marathon tale item: 28\n",
      "Loop number:  28\n"
     ]
    },
    {
     "ename": "IndexError",
     "evalue": "list index out of range",
     "output_type": "error",
     "traceback": [
      "\u001b[0;31m---------------------------------------------------------------------------\u001b[0m",
      "\u001b[0;31mIndexError\u001b[0m                                Traceback (most recent call last)",
      "\u001b[0;32m<ipython-input-46-6b5336f783bb>\u001b[0m in \u001b[0;36m<module>\u001b[0;34m\u001b[0m\n\u001b[1;32m     21\u001b[0m \u001b[0;34m\u001b[0m\u001b[0m\n\u001b[1;32m     22\u001b[0m     \u001b[0;31m#get current runner marathon result\u001b[0m\u001b[0;34m\u001b[0m\u001b[0;34m\u001b[0m\u001b[0;34m\u001b[0m\u001b[0m\n\u001b[0;32m---> 23\u001b[0;31m     \u001b[0mresultRow\u001b[0m \u001b[0;34m=\u001b[0m \u001b[0mfemaleRunners\u001b[0m\u001b[0;34m[\u001b[0m\u001b[0mitem\u001b[0m \u001b[0;34m+\u001b[0m \u001b[0;36m1\u001b[0m\u001b[0;34m]\u001b[0m\u001b[0;34m\u001b[0m\u001b[0;34m\u001b[0m\u001b[0m\n\u001b[0m\u001b[1;32m     24\u001b[0m \u001b[0;34m\u001b[0m\u001b[0m\n\u001b[1;32m     25\u001b[0m     \u001b[0;31m#insert pertinent data into the marathon table\u001b[0m\u001b[0;34m\u001b[0m\u001b[0;34m\u001b[0m\u001b[0;34m\u001b[0m\u001b[0m\n",
      "\u001b[0;31mIndexError\u001b[0m: list index out of range"
     ]
    }
   ],
   "source": [
    "for item in range(0, len(femaleRunners)):\n",
    "    print(\"Loop number: \", item)\n",
    "    \n",
    "    #get the current runner info\n",
    "    runnerRow = femaleRunners[item]\n",
    "    \n",
    "    #insert pertinent data into the person table\n",
    "    sql = \"\"\"insert into person (person_id, first_name, last_name, sex) values (%s, %s, %s, %s)\"\"\"\n",
    "    \n",
    "    try:\n",
    "        #execute the sql commmand\n",
    "        cursor.execute(sql, (runnerRow[0], runnerRow[1], runnerRow[2], runnerRow[3]))\n",
    "        \n",
    "        #commit the changes in database\n",
    "        db.commit()\n",
    "        \n",
    "    except:\n",
    "        #roll back incase there is an error\n",
    "        print(\"Did not insert item in to person table\" % (item))\n",
    "        db.rollback()\n",
    "        \n",
    "    #get current runner marathon result\n",
    "    resultRow = femaleRunners[item + 1]\n",
    "    \n",
    "    #insert pertinent data into the marathon table\n",
    "    sql = \"\"\"insert into marathon (person_id, raceYear, raceTime) values (%s, %s, %s)\"\"\"\n",
    "    \n",
    "    try:\n",
    "        \n",
    "        #excute the sql command\n",
    "        cursor.execute(sql, (runner[0], resultRow[0], resultRow[2]))\n",
    "        \n",
    "        #commit changes in databse\n",
    "        db.commit()\n",
    "    except:\n",
    "        #rollback in case there is an error\n",
    "        print(\"Did not insert into marathon tale item: %d\" % (item + 1))"
   ]
  },
  {
   "cell_type": "code",
   "execution_count": 47,
   "metadata": {},
   "outputs": [],
   "source": [
    "#close database\n",
    "db.close()"
   ]
  },
  {
   "cell_type": "code",
   "execution_count": null,
   "metadata": {},
   "outputs": [],
   "source": []
  }
 ],
 "metadata": {
  "kernelspec": {
   "display_name": "Python 3",
   "language": "python",
   "name": "python3"
  },
  "language_info": {
   "codemirror_mode": {
    "name": "ipython",
    "version": 3
   },
   "file_extension": ".py",
   "mimetype": "text/x-python",
   "name": "python",
   "nbconvert_exporter": "python",
   "pygments_lexer": "ipython3",
   "version": "3.8.1"
  }
 },
 "nbformat": 4,
 "nbformat_minor": 4
}

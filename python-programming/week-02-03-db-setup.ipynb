{
 "cells": [
  {
   "cell_type": "code",
   "execution_count": 30,
   "metadata": {},
   "outputs": [],
   "source": [
    "#Accessing mysql database using python"
   ]
  },
  {
   "cell_type": "code",
   "execution_count": 31,
   "metadata": {},
   "outputs": [],
   "source": [
    "import pymysql"
   ]
  },
  {
   "cell_type": "code",
   "execution_count": 32,
   "metadata": {},
   "outputs": [],
   "source": [
    "#Open database\n",
    "                        #server    username   password   db name \n",
    "db = pymysql.connect(\"localhost\", \"testuser\",\"test123\", \"testdb\")"
   ]
  },
  {
   "cell_type": "code",
   "execution_count": 33,
   "metadata": {},
   "outputs": [],
   "source": [
    "# creting a cursor object using cursor() method\n",
    "cursor = db.cursor()"
   ]
  },
  {
   "cell_type": "code",
   "execution_count": 34,
   "metadata": {},
   "outputs": [],
   "source": [
    "#preparinga query\n",
    "query = \"\"\"SELECT * FROM employee\"\"\""
   ]
  },
  {
   "cell_type": "code",
   "execution_count": 35,
   "metadata": {},
   "outputs": [
    {
     "name": "stdout",
     "output_type": "stream",
     "text": [
      "id\tfirst\tlast\tage\tsex\tincome\n",
      "1\tMary\tSmith\t40\tF\t4000\n",
      "2\tJoe\tDoe\t53\tM\t3500\n",
      "3\tMike\tJones\t26\tM\t2200\n",
      "4\tTom\tCane\t32\tM\t1850\n",
      "5\tBetty\tCrocker\t25\tF\t5000\n",
      "6\tSally\tWest\t35\tF\t2500\n",
      "7\tRaph\tLoren\t43\tM\t3000\n",
      "8\tKeith\tSweat\t55\tM\t4100\n",
      "9\tMike\tJackson\t58\tM\t10000\n",
      "10\tJuan\tRamirez\t37\tM\t3000\n",
      "11\tKanye\tEast\t20\tM\t1500\n",
      "12\tJoan\tArc\t60\tF\t2000\n",
      "13\tCarmen\tSantiago\t50\tF\t4000\n",
      "14\tMac\tTheNight\t32\tM\t2500\n",
      "15\tMac\tTheDay\t33\tM\t2600\n"
     ]
    }
   ],
   "source": [
    "# execute a command using a try - exception block\n",
    "\n",
    "try: \n",
    "    #excute a sqql command\n",
    "    cursor.execute(query)\n",
    "    results = cursor.fetchall()\n",
    "    \n",
    "    #print the data \n",
    "    print(\"id\\tfirst\\tlast\\tage\\tsex\\tincome\")\n",
    "    \n",
    "    #loop through the result set\n",
    "    for row in results:\n",
    "        #for each row save element data to a variable\n",
    "        emp_id = row[0]\n",
    "        fname = row[1]\n",
    "        lname = row[2]\n",
    "        age = row[3]\n",
    "        sex = row[4]\n",
    "        income = row[5]\n",
    "        \n",
    "        #lets print the current row\n",
    "        print(\"%d\\t%s\\t%s\\t%d\\t%s\\t%d\" %\\\n",
    "             (emp_id, fname, lname, age, sex, income))\n",
    "        \n",
    "except:\n",
    "    print(\"error: unable to fetch data\")"
   ]
  },
  {
   "cell_type": "code",
   "execution_count": 36,
   "metadata": {},
   "outputs": [],
   "source": [
    "db.close()"
   ]
  },
  {
   "cell_type": "code",
   "execution_count": null,
   "metadata": {},
   "outputs": [],
   "source": []
  }
 ],
 "metadata": {
  "kernelspec": {
   "display_name": "Python 3",
   "language": "python",
   "name": "python3"
  },
  "language_info": {
   "codemirror_mode": {
    "name": "ipython",
    "version": 3
   },
   "file_extension": ".py",
   "mimetype": "text/x-python",
   "name": "python",
   "nbconvert_exporter": "python",
   "pygments_lexer": "ipython3",
   "version": "3.8.3"
  }
 },
 "nbformat": 4,
 "nbformat_minor": 4
}

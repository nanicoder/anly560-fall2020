{
 "cells": [
  {
   "cell_type": "code",
   "execution_count": 2,
   "metadata": {},
   "outputs": [
    {
     "name": "stdout",
     "output_type": "stream",
     "text": [
      "title\tdescription\tfirst_name\tlast_name\n",
      "BLACKOUT PRIVATE\tA Intrepid Yarn of a Pastry Chef And a Mad Scientist who must Challenge a Secret Agent in Ancient Japan\tSANDRA\tKILMER\n",
      "BLACKOUT PRIVATE\tA Intrepid Yarn of a Pastry Chef And a Mad Scientist who must Challenge a Secret Agent in Ancient Japan\tCARY\tMCCONAUGHEY\n",
      "BLACKOUT PRIVATE\tA Intrepid Yarn of a Pastry Chef And a Mad Scientist who must Challenge a Secret Agent in Ancient Japan\tCAMERON\tZELLWEGER\n",
      "BLACKOUT PRIVATE\tA Intrepid Yarn of a Pastry Chef And a Mad Scientist who must Challenge a Secret Agent in Ancient Japan\tKENNETH\tHOFFMAN\n",
      "BLACKOUT PRIVATE\tA Intrepid Yarn of a Pastry Chef And a Mad Scientist who must Challenge a Secret Agent in Ancient Japan\tMATTHEW\tCARREY\n",
      "BLADE POLISH\tA Thoughtful Character Study of a Frisbee And a Pastry Chef who must Fight a Dentist in The First Manned Space Station\tJENNIFER\tDAVIS\n",
      "BLADE POLISH\tA Thoughtful Character Study of a Frisbee And a Pastry Chef who must Fight a Dentist in The First Manned Space Station\tALEC\tWAYNE\n",
      "BLADE POLISH\tA Thoughtful Character Study of a Frisbee And a Pastry Chef who must Fight a Dentist in The First Manned Space Station\tKEVIN\tGARLAND\n",
      "BLADE POLISH\tA Thoughtful Character Study of a Frisbee And a Pastry Chef who must Fight a Dentist in The First Manned Space Station\tRIVER\tDEAN\n",
      "BLADE POLISH\tA Thoughtful Character Study of a Frisbee And a Pastry Chef who must Fight a Dentist in The First Manned Space Station\tANGELA\tWITHERSPOON\n",
      "BLANKET BEVERLY\tA Emotional Documentary of a Student And a Girl who must Build a Boat in Nigeria\tFRED\tCOSTNER\n",
      "BLANKET BEVERLY\tA Emotional Documentary of a Student And a Girl who must Build a Boat in Nigeria\tALAN\tDREYFUSS\n",
      "BLANKET BEVERLY\tA Emotional Documentary of a Student And a Girl who must Build a Boat in Nigeria\tBURT\tTEMPLE\n",
      "BLANKET BEVERLY\tA Emotional Documentary of a Student And a Girl who must Build a Boat in Nigeria\tTHORA\tTEMPLE\n",
      "BLINDNESS GUN\tA Touching Drama of a Robot And a Dentist who must Meet a Hunter in A Jet Boat\tBURT\tDUKAKIS\n",
      "BLINDNESS GUN\tA Touching Drama of a Robot And a Dentist who must Meet a Hunter in A Jet Boat\tCHRIS\tBRIDGES\n",
      "BLINDNESS GUN\tA Touching Drama of a Robot And a Dentist who must Meet a Hunter in A Jet Boat\tADAM\tHOPPER\n",
      "BLOOD ARGONAUTS\tA Boring Drama of a Explorer And a Man who must Kill a Lumberjack in A Manhattan Penthouse\tCATE\tMCQUEEN\n",
      "BLOOD ARGONAUTS\tA Boring Drama of a Explorer And a Man who must Kill a Lumberjack in A Manhattan Penthouse\tADAM\tHOPPER\n",
      "BLOOD ARGONAUTS\tA Boring Drama of a Explorer And a Man who must Kill a Lumberjack in A Manhattan Penthouse\tLAURA\tBRODY\n",
      "BLOOD ARGONAUTS\tA Boring Drama of a Explorer And a Man who must Kill a Lumberjack in A Manhattan Penthouse\tCUBA\tBIRCH\n",
      "BLUES INSTINCT\tA Insightful Documentary of a Boat And a Composer who must Meet a Forensic Psychologist in An Abandoned Fun House\tCAMERON\tSTREEP\n",
      "BLUES INSTINCT\tA Insightful Documentary of a Boat And a Composer who must Meet a Forensic Psychologist in An Abandoned Fun House\tGROUCHO\tDUNST\n",
      "BLUES INSTINCT\tA Insightful Documentary of a Boat And a Composer who must Meet a Forensic Psychologist in An Abandoned Fun House\tSALMA\tNOLTE\n",
      "BLUES INSTINCT\tA Insightful Documentary of a Boat And a Composer who must Meet a Forensic Psychologist in An Abandoned Fun House\tMATTHEW\tCARREY\n"
     ]
    }
   ],
   "source": [
    "import pymysql\n",
    "\n",
    "db = pymysql.connect(\"localhost\", \"root\", \"\", \"sakila\")\n",
    "cursor = db.cursor()\n",
    "sql = \"\"\"select distinct sf.title, sf.description, sa.first_name, sa.last_name from sakila.film as sf\n",
    "left join sakila.film_actor as sfa on sf.film_id = sfa.film_id\n",
    "left join sakila.actor as sa on sa.actor_id = sfa.actor_id \n",
    "where sf.title like 'BL%'\"\"\"\n",
    "\n",
    "try:\n",
    "    cursor.execute(sql)\n",
    "    results = cursor.fetchall()\n",
    "\n",
    "    print(\"title\\tdescription\\tfirst_name\\tlast_name\")\n",
    "\n",
    "    for column in results:\n",
    "        title = column[0]\n",
    "        description = column[1]\n",
    "        first_name = column[2]\n",
    "        last_name = column[3]\n",
    "        data_array = np.array([title, description, first_name, last_name])\n",
    "\n",
    "        print(\"%s\\t%s\\t%s\\t%s\" % \\\n",
    "              (title, description, first_name, last_name))\n",
    "except:\n",
    "    print(\"ERROR: unable to fetch data\")\n",
    "\n",
    "db.close()"
   ]
  },
  {
   "cell_type": "code",
   "execution_count": null,
   "metadata": {},
   "outputs": [],
   "source": []
  }
 ],
 "metadata": {
  "kernelspec": {
   "display_name": "Python 3",
   "language": "python",
   "name": "python3"
  },
  "language_info": {
   "codemirror_mode": {
    "name": "ipython",
    "version": 3
   },
   "file_extension": ".py",
   "mimetype": "text/x-python",
   "name": "python",
   "nbconvert_exporter": "python",
   "pygments_lexer": "ipython3",
   "version": "3.8.3"
  }
 },
 "nbformat": 4,
 "nbformat_minor": 4
}

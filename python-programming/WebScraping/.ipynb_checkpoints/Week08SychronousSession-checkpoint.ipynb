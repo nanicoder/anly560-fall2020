{
 "cells": [
  {
   "cell_type": "code",
   "execution_count": 81,
   "metadata": {},
   "outputs": [],
   "source": [
    "import requests\n",
    "from bs4 import BeautifulSoup\n",
    "import pandas as pd"
   ]
  },
  {
   "cell_type": "code",
   "execution_count": 71,
   "metadata": {},
   "outputs": [
    {
     "data": {
      "text/plain": [
       "<Response [200]>"
      ]
     },
     "execution_count": 71,
     "metadata": {},
     "output_type": "execute_result"
    }
   ],
   "source": [
    "nwsRequest = requests.get('https://forecast.weather.gov/MapClick.php?lat=40.26289286900004&lon=-76.88102168999995#.X8_bXGRKhhF')\n",
    "nwsRequest"
   ]
  },
  {
   "cell_type": "code",
   "execution_count": 72,
   "metadata": {},
   "outputs": [
    {
     "name": "stdout",
     "output_type": "stream",
     "text": [
      "<div class=\"tombstone-container\">\n",
      " <p class=\"period-name\">\n",
      "  Tonight\n",
      "  <br/>\n",
      "  <br/>\n",
      " </p>\n",
      " <p>\n",
      "  <img alt=\"Tonight: Increasing clouds, with a low around 29. West wind 3 to 8 mph. Winds could gust as high as 20 mph. \" class=\"forecast-icon\" src=\"newimages/medium/nsct.png\" title=\"Tonight: Increasing clouds, with a low around 29. West wind 3 to 8 mph. Winds could gust as high as 20 mph. \"/>\n",
      " </p>\n",
      " <p class=\"short-desc\">\n",
      "  Increasing\n",
      "  <br/>\n",
      "  Clouds\n",
      " </p>\n",
      " <p class=\"temp temp-low\">\n",
      "  Low: 29 °F\n",
      " </p>\n",
      "</div>\n"
     ]
    }
   ],
   "source": [
    "nws = BeautifulSoup(nwsRequest.content, 'html.parser')\n",
    "\n",
    "#Find the div with id seven-day-forcast, assign to a variable seven-day\n",
    "sevenDay = nws.find(id='seven-day-forecast')\n",
    "\n",
    "#inside sevenDay, find each individual forecast item\n",
    "forcastItems = sevenDay.find_all('div', attrs={'class':'tombstone-container'})\n",
    "# forcast_items = seven_day.select(\"[class~='tombstone-container']\")\n",
    "tonight = forcastItems[0]\n",
    "print(tonight.prettify())"
   ]
  },
  {
   "cell_type": "code",
   "execution_count": 73,
   "metadata": {},
   "outputs": [],
   "source": [
    "#extract a single-period of information from the page - 4 pices\n",
    "\n",
    "#name of the forcast period\n",
    "period = tonight.find(class_=\"period-name\").get_text()\n",
    "\n",
    "#description of the conditions - its stored in teh title property of the img tag\n",
    "img= tonight.find(\"img\")\n",
    "# print(img.prettify()) -> this statement used to print output cleanly\n",
    "desc= img[\"title\"]\n",
    "#Short description\n",
    "shortDesc = tonight.find(class_='short-desc').get_text()\n",
    "#the temparature \n",
    "temp = tonight.find(class_=\"temp\").get_text()"
   ]
  },
  {
   "cell_type": "code",
   "execution_count": 74,
   "metadata": {},
   "outputs": [
    {
     "name": "stdout",
     "output_type": "stream",
     "text": [
      "Tonight\n",
      "Tonight: Increasing clouds, with a low around 29. West wind 3 to 8 mph. Winds could gust as high as 20 mph. \n",
      "IncreasingClouds\n",
      "Low: 29 °F\n"
     ]
    }
   ],
   "source": [
    "print(period)\n",
    "print(desc)\n",
    "print(shortDesc)\n",
    "print(temp)"
   ]
  },
  {
   "cell_type": "code",
   "execution_count": 75,
   "metadata": {},
   "outputs": [
    {
     "data": {
      "text/plain": [
       "['Tonight',\n",
       " 'Wednesday',\n",
       " 'WednesdayNight',\n",
       " 'Thursday',\n",
       " 'ThursdayNight',\n",
       " 'Friday',\n",
       " 'FridayNight',\n",
       " 'Saturday',\n",
       " 'SaturdayNight']"
      ]
     },
     "execution_count": 75,
     "metadata": {},
     "output_type": "execute_result"
    }
   ],
   "source": [
    "#extract all info form section of the page\n",
    "\n",
    "#select all teh items with the class period-name inside an item with the \n",
    "#class tomdstone-container in seven_Day\n",
    "\n",
    "periodTags = sevenDay.select(\".tombstone-container .period-name\")\n",
    "periodTags\n",
    "\n",
    "#User a list comprehension to call the get_text method on each BeautifuSoup object\n",
    "periods = [pt.get_text() for pt in periodTags]\n",
    "periods"
   ]
  },
  {
   "cell_type": "code",
   "execution_count": 82,
   "metadata": {},
   "outputs": [],
   "source": [
    "#Get the rest the information\n",
    "shortDescs = [sd.get_text() for sd in sevenDay.select(\".tombstone-container .short-desc\")]\n",
    "temps = [tp.get_text() for tp in sevenDay.select(\".tombstone-container .temp\")]\n",
    "descs = [d['title'] for d in sevenDay.select(\".tombstone-container img\")]"
   ]
  },
  {
   "cell_type": "code",
   "execution_count": 83,
   "metadata": {},
   "outputs": [
    {
     "name": "stdout",
     "output_type": "stream",
     "text": [
      "['IncreasingClouds', 'Slight ChanceLight Snowthen MostlyCloudy', 'Mostly Cloudy', 'Sunny', 'Mostly Clear', 'Mostly Sunny', 'Mostly Cloudy', 'Mostly Cloudy', 'Mostly Cloudythen ChanceRain']\n",
      "['Low: 29 °F', 'High: 41 °F', 'Low: 33 °F', 'High: 49 °F', 'Low: 30 °F', 'High: 53 °F', 'Low: 37 °F', 'High: 55 °F', 'Low: 44 °F']\n",
      "['Tonight: Increasing clouds, with a low around 29. West wind 3 to 8 mph. Winds could gust as high as 20 mph. ', 'Wednesday: A slight chance of light snow before 11am.  Mostly cloudy, with a high near 41. West wind 3 to 8 mph.  Chance of precipitation is 20%.', 'Wednesday Night: Mostly cloudy, with a low around 33. West wind around 6 mph. ', 'Thursday: Sunny, with a high near 49. Northwest wind 3 to 6 mph. ', 'Thursday Night: Mostly clear, with a low around 30. Calm wind. ', 'Friday: Mostly sunny, with a high near 53.', 'Friday Night: Mostly cloudy, with a low around 37.', 'Saturday: Mostly cloudy, with a high near 55.', 'Saturday Night: A chance of rain after 1am.  Mostly cloudy, with a low around 44. Chance of precipitation is 40%.']\n"
     ]
    }
   ],
   "source": [
    "print(shortDescs)\n",
    "print(temps)\n",
    "print(descs)"
   ]
  },
  {
   "cell_type": "code",
   "execution_count": 86,
   "metadata": {},
   "outputs": [
    {
     "data": {
      "text/html": [
       "<div>\n",
       "<style scoped>\n",
       "    .dataframe tbody tr th:only-of-type {\n",
       "        vertical-align: middle;\n",
       "    }\n",
       "\n",
       "    .dataframe tbody tr th {\n",
       "        vertical-align: top;\n",
       "    }\n",
       "\n",
       "    .dataframe thead th {\n",
       "        text-align: right;\n",
       "    }\n",
       "</style>\n",
       "<table border=\"1\" class=\"dataframe\">\n",
       "  <thead>\n",
       "    <tr style=\"text-align: right;\">\n",
       "      <th></th>\n",
       "      <th>period</th>\n",
       "      <th>shortDesc</th>\n",
       "      <th>temp</th>\n",
       "      <th>desc</th>\n",
       "    </tr>\n",
       "  </thead>\n",
       "  <tbody>\n",
       "    <tr>\n",
       "      <th>0</th>\n",
       "      <td>Tonight</td>\n",
       "      <td>IncreasingClouds</td>\n",
       "      <td>Low: 29 °F</td>\n",
       "      <td>Tonight: Increasing clouds, with a low around ...</td>\n",
       "    </tr>\n",
       "    <tr>\n",
       "      <th>1</th>\n",
       "      <td>Wednesday</td>\n",
       "      <td>Slight ChanceLight Snowthen MostlyCloudy</td>\n",
       "      <td>High: 41 °F</td>\n",
       "      <td>Wednesday: A slight chance of light snow befor...</td>\n",
       "    </tr>\n",
       "    <tr>\n",
       "      <th>2</th>\n",
       "      <td>WednesdayNight</td>\n",
       "      <td>Mostly Cloudy</td>\n",
       "      <td>Low: 33 °F</td>\n",
       "      <td>Wednesday Night: Mostly cloudy, with a low aro...</td>\n",
       "    </tr>\n",
       "    <tr>\n",
       "      <th>3</th>\n",
       "      <td>Thursday</td>\n",
       "      <td>Sunny</td>\n",
       "      <td>High: 49 °F</td>\n",
       "      <td>Thursday: Sunny, with a high near 49. Northwes...</td>\n",
       "    </tr>\n",
       "    <tr>\n",
       "      <th>4</th>\n",
       "      <td>ThursdayNight</td>\n",
       "      <td>Mostly Clear</td>\n",
       "      <td>Low: 30 °F</td>\n",
       "      <td>Thursday Night: Mostly clear, with a low aroun...</td>\n",
       "    </tr>\n",
       "    <tr>\n",
       "      <th>5</th>\n",
       "      <td>Friday</td>\n",
       "      <td>Mostly Sunny</td>\n",
       "      <td>High: 53 °F</td>\n",
       "      <td>Friday: Mostly sunny, with a high near 53.</td>\n",
       "    </tr>\n",
       "    <tr>\n",
       "      <th>6</th>\n",
       "      <td>FridayNight</td>\n",
       "      <td>Mostly Cloudy</td>\n",
       "      <td>Low: 37 °F</td>\n",
       "      <td>Friday Night: Mostly cloudy, with a low around...</td>\n",
       "    </tr>\n",
       "    <tr>\n",
       "      <th>7</th>\n",
       "      <td>Saturday</td>\n",
       "      <td>Mostly Cloudy</td>\n",
       "      <td>High: 55 °F</td>\n",
       "      <td>Saturday: Mostly cloudy, with a high near 55.</td>\n",
       "    </tr>\n",
       "    <tr>\n",
       "      <th>8</th>\n",
       "      <td>SaturdayNight</td>\n",
       "      <td>Mostly Cloudythen ChanceRain</td>\n",
       "      <td>Low: 44 °F</td>\n",
       "      <td>Saturday Night: A chance of rain after 1am.  M...</td>\n",
       "    </tr>\n",
       "  </tbody>\n",
       "</table>\n",
       "</div>"
      ],
      "text/plain": [
       "           period                                 shortDesc         temp  \\\n",
       "0         Tonight                          IncreasingClouds   Low: 29 °F   \n",
       "1       Wednesday  Slight ChanceLight Snowthen MostlyCloudy  High: 41 °F   \n",
       "2  WednesdayNight                             Mostly Cloudy   Low: 33 °F   \n",
       "3        Thursday                                     Sunny  High: 49 °F   \n",
       "4   ThursdayNight                              Mostly Clear   Low: 30 °F   \n",
       "5          Friday                              Mostly Sunny  High: 53 °F   \n",
       "6     FridayNight                             Mostly Cloudy   Low: 37 °F   \n",
       "7        Saturday                             Mostly Cloudy  High: 55 °F   \n",
       "8   SaturdayNight              Mostly Cloudythen ChanceRain   Low: 44 °F   \n",
       "\n",
       "                                                desc  \n",
       "0  Tonight: Increasing clouds, with a low around ...  \n",
       "1  Wednesday: A slight chance of light snow befor...  \n",
       "2  Wednesday Night: Mostly cloudy, with a low aro...  \n",
       "3  Thursday: Sunny, with a high near 49. Northwes...  \n",
       "4  Thursday Night: Mostly clear, with a low aroun...  \n",
       "5         Friday: Mostly sunny, with a high near 53.  \n",
       "6  Friday Night: Mostly cloudy, with a low around...  \n",
       "7      Saturday: Mostly cloudy, with a high near 55.  \n",
       "8  Saturday Night: A chance of rain after 1am.  M...  "
      ]
     },
     "execution_count": 86,
     "metadata": {},
     "output_type": "execute_result"
    }
   ],
   "source": [
    "# Combine into a dataframe to analyse\n",
    "weather = pd.DataFrame({\n",
    "    \"period\":periods,\n",
    "    \"shortDesc\":shortDescs,\n",
    "    \"temp\":temps,\n",
    "    \"desc\":descs\n",
    "})\n",
    "weather\n",
    "#use a dictionary to creat dataframe"
   ]
  },
  {
   "cell_type": "code",
   "execution_count": 101,
   "metadata": {},
   "outputs": [],
   "source": [
    "#pull out numeric temp values using a regular expression and series class\n",
    "tempNums = weather[\"temp\"].str.extract(\"(?P<tempNum> \\d+)\", expand=False)\n",
    "tempNums\n",
    "\n",
    "#add a new coloumn to a data frame\n",
    "weather[\"tempNum\"] = tempNums.astype('int')"
   ]
  },
  {
   "cell_type": "code",
   "execution_count": 102,
   "metadata": {},
   "outputs": [
    {
     "data": {
      "text/html": [
       "<div>\n",
       "<style scoped>\n",
       "    .dataframe tbody tr th:only-of-type {\n",
       "        vertical-align: middle;\n",
       "    }\n",
       "\n",
       "    .dataframe tbody tr th {\n",
       "        vertical-align: top;\n",
       "    }\n",
       "\n",
       "    .dataframe thead th {\n",
       "        text-align: right;\n",
       "    }\n",
       "</style>\n",
       "<table border=\"1\" class=\"dataframe\">\n",
       "  <thead>\n",
       "    <tr style=\"text-align: right;\">\n",
       "      <th></th>\n",
       "      <th>period</th>\n",
       "      <th>shortDesc</th>\n",
       "      <th>temp</th>\n",
       "      <th>desc</th>\n",
       "      <th>tempNum</th>\n",
       "    </tr>\n",
       "  </thead>\n",
       "  <tbody>\n",
       "    <tr>\n",
       "      <th>0</th>\n",
       "      <td>Tonight</td>\n",
       "      <td>IncreasingClouds</td>\n",
       "      <td>Low: 29 °F</td>\n",
       "      <td>Tonight: Increasing clouds, with a low around ...</td>\n",
       "      <td>29</td>\n",
       "    </tr>\n",
       "    <tr>\n",
       "      <th>1</th>\n",
       "      <td>Wednesday</td>\n",
       "      <td>Slight ChanceLight Snowthen MostlyCloudy</td>\n",
       "      <td>High: 41 °F</td>\n",
       "      <td>Wednesday: A slight chance of light snow befor...</td>\n",
       "      <td>41</td>\n",
       "    </tr>\n",
       "    <tr>\n",
       "      <th>2</th>\n",
       "      <td>WednesdayNight</td>\n",
       "      <td>Mostly Cloudy</td>\n",
       "      <td>Low: 33 °F</td>\n",
       "      <td>Wednesday Night: Mostly cloudy, with a low aro...</td>\n",
       "      <td>33</td>\n",
       "    </tr>\n",
       "    <tr>\n",
       "      <th>3</th>\n",
       "      <td>Thursday</td>\n",
       "      <td>Sunny</td>\n",
       "      <td>High: 49 °F</td>\n",
       "      <td>Thursday: Sunny, with a high near 49. Northwes...</td>\n",
       "      <td>49</td>\n",
       "    </tr>\n",
       "    <tr>\n",
       "      <th>4</th>\n",
       "      <td>ThursdayNight</td>\n",
       "      <td>Mostly Clear</td>\n",
       "      <td>Low: 30 °F</td>\n",
       "      <td>Thursday Night: Mostly clear, with a low aroun...</td>\n",
       "      <td>30</td>\n",
       "    </tr>\n",
       "    <tr>\n",
       "      <th>5</th>\n",
       "      <td>Friday</td>\n",
       "      <td>Mostly Sunny</td>\n",
       "      <td>High: 53 °F</td>\n",
       "      <td>Friday: Mostly sunny, with a high near 53.</td>\n",
       "      <td>53</td>\n",
       "    </tr>\n",
       "    <tr>\n",
       "      <th>6</th>\n",
       "      <td>FridayNight</td>\n",
       "      <td>Mostly Cloudy</td>\n",
       "      <td>Low: 37 °F</td>\n",
       "      <td>Friday Night: Mostly cloudy, with a low around...</td>\n",
       "      <td>37</td>\n",
       "    </tr>\n",
       "    <tr>\n",
       "      <th>7</th>\n",
       "      <td>Saturday</td>\n",
       "      <td>Mostly Cloudy</td>\n",
       "      <td>High: 55 °F</td>\n",
       "      <td>Saturday: Mostly cloudy, with a high near 55.</td>\n",
       "      <td>55</td>\n",
       "    </tr>\n",
       "    <tr>\n",
       "      <th>8</th>\n",
       "      <td>SaturdayNight</td>\n",
       "      <td>Mostly Cloudythen ChanceRain</td>\n",
       "      <td>Low: 44 °F</td>\n",
       "      <td>Saturday Night: A chance of rain after 1am.  M...</td>\n",
       "      <td>44</td>\n",
       "    </tr>\n",
       "  </tbody>\n",
       "</table>\n",
       "</div>"
      ],
      "text/plain": [
       "           period                                 shortDesc         temp  \\\n",
       "0         Tonight                          IncreasingClouds   Low: 29 °F   \n",
       "1       Wednesday  Slight ChanceLight Snowthen MostlyCloudy  High: 41 °F   \n",
       "2  WednesdayNight                             Mostly Cloudy   Low: 33 °F   \n",
       "3        Thursday                                     Sunny  High: 49 °F   \n",
       "4   ThursdayNight                              Mostly Clear   Low: 30 °F   \n",
       "5          Friday                              Mostly Sunny  High: 53 °F   \n",
       "6     FridayNight                             Mostly Cloudy   Low: 37 °F   \n",
       "7        Saturday                             Mostly Cloudy  High: 55 °F   \n",
       "8   SaturdayNight              Mostly Cloudythen ChanceRain   Low: 44 °F   \n",
       "\n",
       "                                                desc  tempNum  \n",
       "0  Tonight: Increasing clouds, with a low around ...       29  \n",
       "1  Wednesday: A slight chance of light snow befor...       41  \n",
       "2  Wednesday Night: Mostly cloudy, with a low aro...       33  \n",
       "3  Thursday: Sunny, with a high near 49. Northwes...       49  \n",
       "4  Thursday Night: Mostly clear, with a low aroun...       30  \n",
       "5         Friday: Mostly sunny, with a high near 53.       53  \n",
       "6  Friday Night: Mostly cloudy, with a low around...       37  \n",
       "7      Saturday: Mostly cloudy, with a high near 55.       55  \n",
       "8  Saturday Night: A chance of rain after 1am.  M...       44  "
      ]
     },
     "execution_count": 102,
     "metadata": {},
     "output_type": "execute_result"
    }
   ],
   "source": [
    "weather"
   ]
  },
  {
   "cell_type": "code",
   "execution_count": 104,
   "metadata": {},
   "outputs": [
    {
     "data": {
      "text/plain": [
       "numpy.int64"
      ]
     },
     "execution_count": 104,
     "metadata": {},
     "output_type": "execute_result"
    }
   ],
   "source": [
    "type(weather['tempNum'][0])"
   ]
  },
  {
   "cell_type": "code",
   "execution_count": 106,
   "metadata": {},
   "outputs": [
    {
     "data": {
      "text/plain": [
       "41.22222222222222"
      ]
     },
     "execution_count": 106,
     "metadata": {},
     "output_type": "execute_result"
    }
   ],
   "source": [
    "#we can find the mean of all the temps for the week\n",
    "weather[\"tempNum\"].mean()"
   ]
  },
  {
   "cell_type": "code",
   "execution_count": 108,
   "metadata": {},
   "outputs": [],
   "source": [
    "#we can select only the rows that happen at night\n",
    "isNight = weather[\"temp\"].str.contains(\"Low\")\n",
    "isNight\n",
    "weather[\"isNight\"] = isNight"
   ]
  },
  {
   "cell_type": "code",
   "execution_count": 109,
   "metadata": {},
   "outputs": [
    {
     "data": {
      "text/html": [
       "<div>\n",
       "<style scoped>\n",
       "    .dataframe tbody tr th:only-of-type {\n",
       "        vertical-align: middle;\n",
       "    }\n",
       "\n",
       "    .dataframe tbody tr th {\n",
       "        vertical-align: top;\n",
       "    }\n",
       "\n",
       "    .dataframe thead th {\n",
       "        text-align: right;\n",
       "    }\n",
       "</style>\n",
       "<table border=\"1\" class=\"dataframe\">\n",
       "  <thead>\n",
       "    <tr style=\"text-align: right;\">\n",
       "      <th></th>\n",
       "      <th>period</th>\n",
       "      <th>shortDesc</th>\n",
       "      <th>temp</th>\n",
       "      <th>desc</th>\n",
       "      <th>tempNum</th>\n",
       "      <th>isNight</th>\n",
       "    </tr>\n",
       "  </thead>\n",
       "  <tbody>\n",
       "    <tr>\n",
       "      <th>0</th>\n",
       "      <td>Tonight</td>\n",
       "      <td>IncreasingClouds</td>\n",
       "      <td>Low: 29 °F</td>\n",
       "      <td>Tonight: Increasing clouds, with a low around ...</td>\n",
       "      <td>29</td>\n",
       "      <td>True</td>\n",
       "    </tr>\n",
       "    <tr>\n",
       "      <th>1</th>\n",
       "      <td>Wednesday</td>\n",
       "      <td>Slight ChanceLight Snowthen MostlyCloudy</td>\n",
       "      <td>High: 41 °F</td>\n",
       "      <td>Wednesday: A slight chance of light snow befor...</td>\n",
       "      <td>41</td>\n",
       "      <td>False</td>\n",
       "    </tr>\n",
       "    <tr>\n",
       "      <th>2</th>\n",
       "      <td>WednesdayNight</td>\n",
       "      <td>Mostly Cloudy</td>\n",
       "      <td>Low: 33 °F</td>\n",
       "      <td>Wednesday Night: Mostly cloudy, with a low aro...</td>\n",
       "      <td>33</td>\n",
       "      <td>True</td>\n",
       "    </tr>\n",
       "    <tr>\n",
       "      <th>3</th>\n",
       "      <td>Thursday</td>\n",
       "      <td>Sunny</td>\n",
       "      <td>High: 49 °F</td>\n",
       "      <td>Thursday: Sunny, with a high near 49. Northwes...</td>\n",
       "      <td>49</td>\n",
       "      <td>False</td>\n",
       "    </tr>\n",
       "    <tr>\n",
       "      <th>4</th>\n",
       "      <td>ThursdayNight</td>\n",
       "      <td>Mostly Clear</td>\n",
       "      <td>Low: 30 °F</td>\n",
       "      <td>Thursday Night: Mostly clear, with a low aroun...</td>\n",
       "      <td>30</td>\n",
       "      <td>True</td>\n",
       "    </tr>\n",
       "    <tr>\n",
       "      <th>5</th>\n",
       "      <td>Friday</td>\n",
       "      <td>Mostly Sunny</td>\n",
       "      <td>High: 53 °F</td>\n",
       "      <td>Friday: Mostly sunny, with a high near 53.</td>\n",
       "      <td>53</td>\n",
       "      <td>False</td>\n",
       "    </tr>\n",
       "    <tr>\n",
       "      <th>6</th>\n",
       "      <td>FridayNight</td>\n",
       "      <td>Mostly Cloudy</td>\n",
       "      <td>Low: 37 °F</td>\n",
       "      <td>Friday Night: Mostly cloudy, with a low around...</td>\n",
       "      <td>37</td>\n",
       "      <td>True</td>\n",
       "    </tr>\n",
       "    <tr>\n",
       "      <th>7</th>\n",
       "      <td>Saturday</td>\n",
       "      <td>Mostly Cloudy</td>\n",
       "      <td>High: 55 °F</td>\n",
       "      <td>Saturday: Mostly cloudy, with a high near 55.</td>\n",
       "      <td>55</td>\n",
       "      <td>False</td>\n",
       "    </tr>\n",
       "    <tr>\n",
       "      <th>8</th>\n",
       "      <td>SaturdayNight</td>\n",
       "      <td>Mostly Cloudythen ChanceRain</td>\n",
       "      <td>Low: 44 °F</td>\n",
       "      <td>Saturday Night: A chance of rain after 1am.  M...</td>\n",
       "      <td>44</td>\n",
       "      <td>True</td>\n",
       "    </tr>\n",
       "  </tbody>\n",
       "</table>\n",
       "</div>"
      ],
      "text/plain": [
       "           period                                 shortDesc         temp  \\\n",
       "0         Tonight                          IncreasingClouds   Low: 29 °F   \n",
       "1       Wednesday  Slight ChanceLight Snowthen MostlyCloudy  High: 41 °F   \n",
       "2  WednesdayNight                             Mostly Cloudy   Low: 33 °F   \n",
       "3        Thursday                                     Sunny  High: 49 °F   \n",
       "4   ThursdayNight                              Mostly Clear   Low: 30 °F   \n",
       "5          Friday                              Mostly Sunny  High: 53 °F   \n",
       "6     FridayNight                             Mostly Cloudy   Low: 37 °F   \n",
       "7        Saturday                             Mostly Cloudy  High: 55 °F   \n",
       "8   SaturdayNight              Mostly Cloudythen ChanceRain   Low: 44 °F   \n",
       "\n",
       "                                                desc  tempNum  isNight  \n",
       "0  Tonight: Increasing clouds, with a low around ...       29     True  \n",
       "1  Wednesday: A slight chance of light snow befor...       41    False  \n",
       "2  Wednesday Night: Mostly cloudy, with a low aro...       33     True  \n",
       "3  Thursday: Sunny, with a high near 49. Northwes...       49    False  \n",
       "4  Thursday Night: Mostly clear, with a low aroun...       30     True  \n",
       "5         Friday: Mostly sunny, with a high near 53.       53    False  \n",
       "6  Friday Night: Mostly cloudy, with a low around...       37     True  \n",
       "7      Saturday: Mostly cloudy, with a high near 55.       55    False  \n",
       "8  Saturday Night: A chance of rain after 1am.  M...       44     True  "
      ]
     },
     "execution_count": 109,
     "metadata": {},
     "output_type": "execute_result"
    }
   ],
   "source": [
    "weather"
   ]
  },
  {
   "cell_type": "code",
   "execution_count": null,
   "metadata": {},
   "outputs": [],
   "source": []
  }
 ],
 "metadata": {
  "kernelspec": {
   "display_name": "Python 3",
   "language": "python",
   "name": "python3"
  },
  "language_info": {
   "codemirror_mode": {
    "name": "ipython",
    "version": 3
   },
   "file_extension": ".py",
   "mimetype": "text/x-python",
   "name": "python",
   "nbconvert_exporter": "python",
   "pygments_lexer": "ipython3",
   "version": "3.8.1"
  }
 },
 "nbformat": 4,
 "nbformat_minor": 4
}

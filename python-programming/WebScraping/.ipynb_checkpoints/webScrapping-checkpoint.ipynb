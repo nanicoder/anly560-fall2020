{
 "cells": [
  {
   "cell_type": "markdown",
   "metadata": {},
   "source": [
    "###### Webpage Basics"
   ]
  },
  {
   "cell_type": "code",
   "execution_count": 9,
   "metadata": {},
   "outputs": [
    {
     "data": {
      "text/plain": [
       "<Response [200]>"
      ]
     },
     "execution_count": 9,
     "metadata": {},
     "output_type": "execute_result"
    }
   ],
   "source": [
    "#import neede dmodles\n",
    "import requests\n",
    "\n",
    "#1) Send HTTP request and download webpage\n",
    "page = requests.get(\"http://toscrape.com\")\n",
    "page"
   ]
  },
  {
   "cell_type": "code",
   "execution_count": 11,
   "metadata": {},
   "outputs": [
    {
     "data": {
      "text/plain": [
       "b'<!DOCTYPE html>\\n<html lang=\"en\">\\n    <head>\\n        <meta http-equiv=\"Content-Type\" content=\"text/html; charset=UTF-8\">\\n        <title>Scraping Sandbox</title>\\n        <link href=\"./css/bootstrap.min.css\" rel=\"stylesheet\">\\n        <link href=\"./css/main.css\" rel=\"stylesheet\">\\n    </head>\\n    <body>\\n        <div class=\"container\">\\n            <div class=\"row\">\\n                <div class=\"col-md-1\"></div>\\n                <div class=\"col-md-10 well\">\\n                    <img class=\"logo\" src=\"img/sh-logo.png\" width=\"200px\">\\n                    <h1 class=\"text-right\">Web Scraping Sandbox</h1>\\n                </div>\\n            </div>\\n\\n            <div class=\"row\">\\n                <div class=\"col-md-1\"></div>\\n                <div class=\"col-md-10\">\\n                    <h2>Books</h2>\\n                    <p>A <a href=\"http://books.toscrape.com\">fictional bookstore</a> that desperately wants to be scraped. It\\'s a safe place for beginners learning web scraping and for developers validating their scraping technologies as well. Available at: <a href=\"http://books.toscrape.com\">books.toscrape.com</a></p>\\n                    <div class=\"col-md-6\">\\n                        <a href=\"http://books.toscrape.com\"><img src=\"./img/books.png\" class=\"img-thumbnail\"></a>\\n                    </div>\\n                    <div class=\"col-md-6\">\\n                        <table class=\"table table-hover\">\\n                            <tr><th colspan=\"2\">Details</th></tr>\\n                            <tr><td>Amount of items </td><td>1000</td></tr>\\n                            <tr><td>Pagination </td><td>&#10004;</td></tr>\\n                            <tr><td>Items per page </td><td>max 20</td></tr>\\n                            <tr><td>Requires JavaScript </td><td>&#10008;</td></tr>\\n                        </table>\\n                    </div>\\n                </div>\\n            </div>\\n\\n            <div class=\"row\">\\n                <div class=\"col-md-1\"></div>\\n                <div class=\"col-md-10\">\\n                    <h2>Quotes</h2>\\n                    <p><a href=\"http://quotes.toscrape.com/\">A website</a> that lists quotes from famous people. It has many endpoints showing the quotes in many different ways, each of them including new scraping challenges for you, as described below.</p>\\n                    <div class=\"col-md-6\">\\n                        <a href=\"http://quotes.toscrape.com\"><img src=\"./img/quotes.png\" class=\"img-thumbnail\"></a>\\n                    </div>\\n                    <div class=\"col-md-6\">\\n                        <table class=\"table table-hover\">\\n                            <tr><th colspan=\"2\">Endpoints</th></tr>\\n                            <tr><td><a href=\"http://quotes.toscrape.com/\">Default</a></td><td>Microdata and pagination</td></tr>\\n                            <tr><td><a href=\"http://quotes.toscrape.com/scroll\">Scroll</a> </td><td>infinite scrolling pagination</td></tr>\\n                            <tr><td><a href=\"http://quotes.toscrape.com/js\">JavaScript</a> </td><td>JavaScript generated content</td></tr>\\n                            <tr><td><a href=\"http://quotes.toscrape.com/js-delayed\">Delayed</a> </td><td>Same as JavaScript but with a delay (?delay=10000)</td></tr>\\n                            <tr><td><a href=\"http://quotes.toscrape.com/tableful\">Tableful</a> </td><td>a table based messed-up layout</td></tr>\\n                            <tr><td><a href=\"http://quotes.toscrape.com/login\">Login</a> </td><td>login with CSRF token (any user/passwd works)</td></tr>\\n                            <tr><td><a href=\"http://quotes.toscrape.com/search.aspx\">ViewState</a> </td><td>an AJAX based filter form with ViewStates</td></tr>\\n                            <tr><td><a href=\"http://quotes.toscrape.com/random\">Random</a> </td><td>a single random quote</td></tr>\\n                        </table>\\n                    </div>\\n                </div>\\n            </div>\\n        </div>\\n    </body>\\n</html>\\n'"
      ]
     },
     "execution_count": 11,
     "metadata": {},
     "output_type": "execute_result"
    }
   ],
   "source": [
    "#lets look inside\n",
    "page.content"
   ]
  },
  {
   "cell_type": "code",
   "execution_count": 14,
   "metadata": {},
   "outputs": [
    {
     "name": "stdout",
     "output_type": "stream",
     "text": [
      "<!DOCTYPE html>\n",
      "<html lang=\"en\">\n",
      " <head>\n",
      "  <meta content=\"text/html; charset=utf-8\" http-equiv=\"Content-Type\"/>\n",
      "  <title>\n",
      "   Scraping Sandbox\n",
      "  </title>\n",
      "  <link href=\"./css/bootstrap.min.css\" rel=\"stylesheet\"/>\n",
      "  <link href=\"./css/main.css\" rel=\"stylesheet\"/>\n",
      " </head>\n",
      " <body>\n",
      "  <div class=\"container\">\n",
      "   <div class=\"row\">\n",
      "    <div class=\"col-md-1\">\n",
      "    </div>\n",
      "    <div class=\"col-md-10 well\">\n",
      "     <img class=\"logo\" src=\"img/sh-logo.png\" width=\"200px\"/>\n",
      "     <h1 class=\"text-right\">\n",
      "      Web Scraping Sandbox\n",
      "     </h1>\n",
      "    </div>\n",
      "   </div>\n",
      "   <div class=\"row\">\n",
      "    <div class=\"col-md-1\">\n",
      "    </div>\n",
      "    <div class=\"col-md-10\">\n",
      "     <h2>\n",
      "      Books\n",
      "     </h2>\n",
      "     <p>\n",
      "      A\n",
      "      <a href=\"http://books.toscrape.com\">\n",
      "       fictional bookstore\n",
      "      </a>\n",
      "      that desperately wants to be scraped. It's a safe place for beginners learning web scraping and for developers validating their scraping technologies as well. Available at:\n",
      "      <a href=\"http://books.toscrape.com\">\n",
      "       books.toscrape.com\n",
      "      </a>\n",
      "     </p>\n",
      "     <div class=\"col-md-6\">\n",
      "      <a href=\"http://books.toscrape.com\">\n",
      "       <img class=\"img-thumbnail\" src=\"./img/books.png\"/>\n",
      "      </a>\n",
      "     </div>\n",
      "     <div class=\"col-md-6\">\n",
      "      <table class=\"table table-hover\">\n",
      "       <tr>\n",
      "        <th colspan=\"2\">\n",
      "         Details\n",
      "        </th>\n",
      "       </tr>\n",
      "       <tr>\n",
      "        <td>\n",
      "         Amount of items\n",
      "        </td>\n",
      "        <td>\n",
      "         1000\n",
      "        </td>\n",
      "       </tr>\n",
      "       <tr>\n",
      "        <td>\n",
      "         Pagination\n",
      "        </td>\n",
      "        <td>\n",
      "         ✔\n",
      "        </td>\n",
      "       </tr>\n",
      "       <tr>\n",
      "        <td>\n",
      "         Items per page\n",
      "        </td>\n",
      "        <td>\n",
      "         max 20\n",
      "        </td>\n",
      "       </tr>\n",
      "       <tr>\n",
      "        <td>\n",
      "         Requires JavaScript\n",
      "        </td>\n",
      "        <td>\n",
      "         ✘\n",
      "        </td>\n",
      "       </tr>\n",
      "      </table>\n",
      "     </div>\n",
      "    </div>\n",
      "   </div>\n",
      "   <div class=\"row\">\n",
      "    <div class=\"col-md-1\">\n",
      "    </div>\n",
      "    <div class=\"col-md-10\">\n",
      "     <h2>\n",
      "      Quotes\n",
      "     </h2>\n",
      "     <p>\n",
      "      <a href=\"http://quotes.toscrape.com/\">\n",
      "       A website\n",
      "      </a>\n",
      "      that lists quotes from famous people. It has many endpoints showing the quotes in many different ways, each of them including new scraping challenges for you, as described below.\n",
      "     </p>\n",
      "     <div class=\"col-md-6\">\n",
      "      <a href=\"http://quotes.toscrape.com\">\n",
      "       <img class=\"img-thumbnail\" src=\"./img/quotes.png\"/>\n",
      "      </a>\n",
      "     </div>\n",
      "     <div class=\"col-md-6\">\n",
      "      <table class=\"table table-hover\">\n",
      "       <tr>\n",
      "        <th colspan=\"2\">\n",
      "         Endpoints\n",
      "        </th>\n",
      "       </tr>\n",
      "       <tr>\n",
      "        <td>\n",
      "         <a href=\"http://quotes.toscrape.com/\">\n",
      "          Default\n",
      "         </a>\n",
      "        </td>\n",
      "        <td>\n",
      "         Microdata and pagination\n",
      "        </td>\n",
      "       </tr>\n",
      "       <tr>\n",
      "        <td>\n",
      "         <a href=\"http://quotes.toscrape.com/scroll\">\n",
      "          Scroll\n",
      "         </a>\n",
      "        </td>\n",
      "        <td>\n",
      "         infinite scrolling pagination\n",
      "        </td>\n",
      "       </tr>\n",
      "       <tr>\n",
      "        <td>\n",
      "         <a href=\"http://quotes.toscrape.com/js\">\n",
      "          JavaScript\n",
      "         </a>\n",
      "        </td>\n",
      "        <td>\n",
      "         JavaScript generated content\n",
      "        </td>\n",
      "       </tr>\n",
      "       <tr>\n",
      "        <td>\n",
      "         <a href=\"http://quotes.toscrape.com/js-delayed\">\n",
      "          Delayed\n",
      "         </a>\n",
      "        </td>\n",
      "        <td>\n",
      "         Same as JavaScript but with a delay (?delay=10000)\n",
      "        </td>\n",
      "       </tr>\n",
      "       <tr>\n",
      "        <td>\n",
      "         <a href=\"http://quotes.toscrape.com/tableful\">\n",
      "          Tableful\n",
      "         </a>\n",
      "        </td>\n",
      "        <td>\n",
      "         a table based messed-up layout\n",
      "        </td>\n",
      "       </tr>\n",
      "       <tr>\n",
      "        <td>\n",
      "         <a href=\"http://quotes.toscrape.com/login\">\n",
      "          Login\n",
      "         </a>\n",
      "        </td>\n",
      "        <td>\n",
      "         login with CSRF token (any user/passwd works)\n",
      "        </td>\n",
      "       </tr>\n",
      "       <tr>\n",
      "        <td>\n",
      "         <a href=\"http://quotes.toscrape.com/search.aspx\">\n",
      "          ViewState\n",
      "         </a>\n",
      "        </td>\n",
      "        <td>\n",
      "         an AJAX based filter form with ViewStates\n",
      "        </td>\n",
      "       </tr>\n",
      "       <tr>\n",
      "        <td>\n",
      "         <a href=\"http://quotes.toscrape.com/random\">\n",
      "          Random\n",
      "         </a>\n",
      "        </td>\n",
      "        <td>\n",
      "         a single random quote\n",
      "        </td>\n",
      "       </tr>\n",
      "      </table>\n",
      "     </div>\n",
      "    </div>\n",
      "   </div>\n",
      "  </div>\n",
      " </body>\n",
      "</html>\n",
      "\n"
     ]
    }
   ],
   "source": [
    "#parse webpage\n",
    "from bs4 import BeautifulSoup\n",
    "\n",
    "soup = BeautifulSoup(page.content, 'html.parser')\n",
    "print(soup.prettify())"
   ]
  },
  {
   "cell_type": "code",
   "execution_count": 16,
   "metadata": {},
   "outputs": [
    {
     "data": {
      "text/plain": [
       "['html',\n",
       " '\\n',\n",
       " <html lang=\"en\">\n",
       " <head>\n",
       " <meta content=\"text/html; charset=utf-8\" http-equiv=\"Content-Type\"/>\n",
       " <title>Scraping Sandbox</title>\n",
       " <link href=\"./css/bootstrap.min.css\" rel=\"stylesheet\"/>\n",
       " <link href=\"./css/main.css\" rel=\"stylesheet\"/>\n",
       " </head>\n",
       " <body>\n",
       " <div class=\"container\">\n",
       " <div class=\"row\">\n",
       " <div class=\"col-md-1\"></div>\n",
       " <div class=\"col-md-10 well\">\n",
       " <img class=\"logo\" src=\"img/sh-logo.png\" width=\"200px\"/>\n",
       " <h1 class=\"text-right\">Web Scraping Sandbox</h1>\n",
       " </div>\n",
       " </div>\n",
       " <div class=\"row\">\n",
       " <div class=\"col-md-1\"></div>\n",
       " <div class=\"col-md-10\">\n",
       " <h2>Books</h2>\n",
       " <p>A <a href=\"http://books.toscrape.com\">fictional bookstore</a> that desperately wants to be scraped. It's a safe place for beginners learning web scraping and for developers validating their scraping technologies as well. Available at: <a href=\"http://books.toscrape.com\">books.toscrape.com</a></p>\n",
       " <div class=\"col-md-6\">\n",
       " <a href=\"http://books.toscrape.com\"><img class=\"img-thumbnail\" src=\"./img/books.png\"/></a>\n",
       " </div>\n",
       " <div class=\"col-md-6\">\n",
       " <table class=\"table table-hover\">\n",
       " <tr><th colspan=\"2\">Details</th></tr>\n",
       " <tr><td>Amount of items </td><td>1000</td></tr>\n",
       " <tr><td>Pagination </td><td>✔</td></tr>\n",
       " <tr><td>Items per page </td><td>max 20</td></tr>\n",
       " <tr><td>Requires JavaScript </td><td>✘</td></tr>\n",
       " </table>\n",
       " </div>\n",
       " </div>\n",
       " </div>\n",
       " <div class=\"row\">\n",
       " <div class=\"col-md-1\"></div>\n",
       " <div class=\"col-md-10\">\n",
       " <h2>Quotes</h2>\n",
       " <p><a href=\"http://quotes.toscrape.com/\">A website</a> that lists quotes from famous people. It has many endpoints showing the quotes in many different ways, each of them including new scraping challenges for you, as described below.</p>\n",
       " <div class=\"col-md-6\">\n",
       " <a href=\"http://quotes.toscrape.com\"><img class=\"img-thumbnail\" src=\"./img/quotes.png\"/></a>\n",
       " </div>\n",
       " <div class=\"col-md-6\">\n",
       " <table class=\"table table-hover\">\n",
       " <tr><th colspan=\"2\">Endpoints</th></tr>\n",
       " <tr><td><a href=\"http://quotes.toscrape.com/\">Default</a></td><td>Microdata and pagination</td></tr>\n",
       " <tr><td><a href=\"http://quotes.toscrape.com/scroll\">Scroll</a> </td><td>infinite scrolling pagination</td></tr>\n",
       " <tr><td><a href=\"http://quotes.toscrape.com/js\">JavaScript</a> </td><td>JavaScript generated content</td></tr>\n",
       " <tr><td><a href=\"http://quotes.toscrape.com/js-delayed\">Delayed</a> </td><td>Same as JavaScript but with a delay (?delay=10000)</td></tr>\n",
       " <tr><td><a href=\"http://quotes.toscrape.com/tableful\">Tableful</a> </td><td>a table based messed-up layout</td></tr>\n",
       " <tr><td><a href=\"http://quotes.toscrape.com/login\">Login</a> </td><td>login with CSRF token (any user/passwd works)</td></tr>\n",
       " <tr><td><a href=\"http://quotes.toscrape.com/search.aspx\">ViewState</a> </td><td>an AJAX based filter form with ViewStates</td></tr>\n",
       " <tr><td><a href=\"http://quotes.toscrape.com/random\">Random</a> </td><td>a single random quote</td></tr>\n",
       " </table>\n",
       " </div>\n",
       " </div>\n",
       " </div>\n",
       " </div>\n",
       " </body>\n",
       " </html>,\n",
       " '\\n']"
      ]
     },
     "execution_count": 16,
     "metadata": {},
     "output_type": "execute_result"
    }
   ],
   "source": [
    "#4) serach and navigate documnet\n",
    "#select all the elemnts at the top level of the page using the children property\n",
    "list(soup.children)"
   ]
  },
  {
   "cell_type": "code",
   "execution_count": 17,
   "metadata": {},
   "outputs": [
    {
     "data": {
      "text/plain": [
       "[bs4.element.Doctype,\n",
       " bs4.element.NavigableString,\n",
       " bs4.element.Tag,\n",
       " bs4.element.NavigableString]"
      ]
     },
     "execution_count": 17,
     "metadata": {},
     "output_type": "execute_result"
    }
   ],
   "source": [
    "#what is  the type of each element in the list\n",
    "[type(item) for item in list(soup.children)]"
   ]
  },
  {
   "cell_type": "code",
   "execution_count": 25,
   "metadata": {},
   "outputs": [
    {
     "data": {
      "text/plain": [
       "<html lang=\"en\">\n",
       "<head>\n",
       "<meta content=\"text/html; charset=utf-8\" http-equiv=\"Content-Type\"/>\n",
       "<title>Scraping Sandbox</title>\n",
       "<link href=\"./css/bootstrap.min.css\" rel=\"stylesheet\"/>\n",
       "<link href=\"./css/main.css\" rel=\"stylesheet\"/>\n",
       "</head>\n",
       "<body>\n",
       "<div class=\"container\">\n",
       "<div class=\"row\">\n",
       "<div class=\"col-md-1\"></div>\n",
       "<div class=\"col-md-10 well\">\n",
       "<img class=\"logo\" src=\"img/sh-logo.png\" width=\"200px\"/>\n",
       "<h1 class=\"text-right\">Web Scraping Sandbox</h1>\n",
       "</div>\n",
       "</div>\n",
       "<div class=\"row\">\n",
       "<div class=\"col-md-1\"></div>\n",
       "<div class=\"col-md-10\">\n",
       "<h2>Books</h2>\n",
       "<p>A <a href=\"http://books.toscrape.com\">fictional bookstore</a> that desperately wants to be scraped. It's a safe place for beginners learning web scraping and for developers validating their scraping technologies as well. Available at: <a href=\"http://books.toscrape.com\">books.toscrape.com</a></p>\n",
       "<div class=\"col-md-6\">\n",
       "<a href=\"http://books.toscrape.com\"><img class=\"img-thumbnail\" src=\"./img/books.png\"/></a>\n",
       "</div>\n",
       "<div class=\"col-md-6\">\n",
       "<table class=\"table table-hover\">\n",
       "<tr><th colspan=\"2\">Details</th></tr>\n",
       "<tr><td>Amount of items </td><td>1000</td></tr>\n",
       "<tr><td>Pagination </td><td>✔</td></tr>\n",
       "<tr><td>Items per page </td><td>max 20</td></tr>\n",
       "<tr><td>Requires JavaScript </td><td>✘</td></tr>\n",
       "</table>\n",
       "</div>\n",
       "</div>\n",
       "</div>\n",
       "<div class=\"row\">\n",
       "<div class=\"col-md-1\"></div>\n",
       "<div class=\"col-md-10\">\n",
       "<h2>Quotes</h2>\n",
       "<p><a href=\"http://quotes.toscrape.com/\">A website</a> that lists quotes from famous people. It has many endpoints showing the quotes in many different ways, each of them including new scraping challenges for you, as described below.</p>\n",
       "<div class=\"col-md-6\">\n",
       "<a href=\"http://quotes.toscrape.com\"><img class=\"img-thumbnail\" src=\"./img/quotes.png\"/></a>\n",
       "</div>\n",
       "<div class=\"col-md-6\">\n",
       "<table class=\"table table-hover\">\n",
       "<tr><th colspan=\"2\">Endpoints</th></tr>\n",
       "<tr><td><a href=\"http://quotes.toscrape.com/\">Default</a></td><td>Microdata and pagination</td></tr>\n",
       "<tr><td><a href=\"http://quotes.toscrape.com/scroll\">Scroll</a> </td><td>infinite scrolling pagination</td></tr>\n",
       "<tr><td><a href=\"http://quotes.toscrape.com/js\">JavaScript</a> </td><td>JavaScript generated content</td></tr>\n",
       "<tr><td><a href=\"http://quotes.toscrape.com/js-delayed\">Delayed</a> </td><td>Same as JavaScript but with a delay (?delay=10000)</td></tr>\n",
       "<tr><td><a href=\"http://quotes.toscrape.com/tableful\">Tableful</a> </td><td>a table based messed-up layout</td></tr>\n",
       "<tr><td><a href=\"http://quotes.toscrape.com/login\">Login</a> </td><td>login with CSRF token (any user/passwd works)</td></tr>\n",
       "<tr><td><a href=\"http://quotes.toscrape.com/search.aspx\">ViewState</a> </td><td>an AJAX based filter form with ViewStates</td></tr>\n",
       "<tr><td><a href=\"http://quotes.toscrape.com/random\">Random</a> </td><td>a single random quote</td></tr>\n",
       "</table>\n",
       "</div>\n",
       "</div>\n",
       "</div>\n",
       "</div>\n",
       "</body>\n",
       "</html>"
      ]
     },
     "execution_count": 25,
     "metadata": {},
     "output_type": "execute_result"
    }
   ],
   "source": [
    "#select the html tag and itys children by taking the 3-item in the list\n",
    "html = list(soup.children)[2]\n",
    "\n",
    "#find the chldren inside the html tag\n",
    "html"
   ]
  },
  {
   "cell_type": "code",
   "execution_count": 26,
   "metadata": {},
   "outputs": [
    {
     "data": {
      "text/plain": [
       "bs4.element.Tag"
      ]
     },
     "execution_count": 26,
     "metadata": {},
     "output_type": "execute_result"
    }
   ],
   "source": [
    "type(html)"
   ]
  },
  {
   "cell_type": "code",
   "execution_count": 28,
   "metadata": {},
   "outputs": [
    {
     "data": {
      "text/plain": [
       "['\\n',\n",
       " <head>\n",
       " <meta content=\"text/html; charset=utf-8\" http-equiv=\"Content-Type\"/>\n",
       " <title>Scraping Sandbox</title>\n",
       " <link href=\"./css/bootstrap.min.css\" rel=\"stylesheet\"/>\n",
       " <link href=\"./css/main.css\" rel=\"stylesheet\"/>\n",
       " </head>,\n",
       " '\\n',\n",
       " <body>\n",
       " <div class=\"container\">\n",
       " <div class=\"row\">\n",
       " <div class=\"col-md-1\"></div>\n",
       " <div class=\"col-md-10 well\">\n",
       " <img class=\"logo\" src=\"img/sh-logo.png\" width=\"200px\"/>\n",
       " <h1 class=\"text-right\">Web Scraping Sandbox</h1>\n",
       " </div>\n",
       " </div>\n",
       " <div class=\"row\">\n",
       " <div class=\"col-md-1\"></div>\n",
       " <div class=\"col-md-10\">\n",
       " <h2>Books</h2>\n",
       " <p>A <a href=\"http://books.toscrape.com\">fictional bookstore</a> that desperately wants to be scraped. It's a safe place for beginners learning web scraping and for developers validating their scraping technologies as well. Available at: <a href=\"http://books.toscrape.com\">books.toscrape.com</a></p>\n",
       " <div class=\"col-md-6\">\n",
       " <a href=\"http://books.toscrape.com\"><img class=\"img-thumbnail\" src=\"./img/books.png\"/></a>\n",
       " </div>\n",
       " <div class=\"col-md-6\">\n",
       " <table class=\"table table-hover\">\n",
       " <tr><th colspan=\"2\">Details</th></tr>\n",
       " <tr><td>Amount of items </td><td>1000</td></tr>\n",
       " <tr><td>Pagination </td><td>✔</td></tr>\n",
       " <tr><td>Items per page </td><td>max 20</td></tr>\n",
       " <tr><td>Requires JavaScript </td><td>✘</td></tr>\n",
       " </table>\n",
       " </div>\n",
       " </div>\n",
       " </div>\n",
       " <div class=\"row\">\n",
       " <div class=\"col-md-1\"></div>\n",
       " <div class=\"col-md-10\">\n",
       " <h2>Quotes</h2>\n",
       " <p><a href=\"http://quotes.toscrape.com/\">A website</a> that lists quotes from famous people. It has many endpoints showing the quotes in many different ways, each of them including new scraping challenges for you, as described below.</p>\n",
       " <div class=\"col-md-6\">\n",
       " <a href=\"http://quotes.toscrape.com\"><img class=\"img-thumbnail\" src=\"./img/quotes.png\"/></a>\n",
       " </div>\n",
       " <div class=\"col-md-6\">\n",
       " <table class=\"table table-hover\">\n",
       " <tr><th colspan=\"2\">Endpoints</th></tr>\n",
       " <tr><td><a href=\"http://quotes.toscrape.com/\">Default</a></td><td>Microdata and pagination</td></tr>\n",
       " <tr><td><a href=\"http://quotes.toscrape.com/scroll\">Scroll</a> </td><td>infinite scrolling pagination</td></tr>\n",
       " <tr><td><a href=\"http://quotes.toscrape.com/js\">JavaScript</a> </td><td>JavaScript generated content</td></tr>\n",
       " <tr><td><a href=\"http://quotes.toscrape.com/js-delayed\">Delayed</a> </td><td>Same as JavaScript but with a delay (?delay=10000)</td></tr>\n",
       " <tr><td><a href=\"http://quotes.toscrape.com/tableful\">Tableful</a> </td><td>a table based messed-up layout</td></tr>\n",
       " <tr><td><a href=\"http://quotes.toscrape.com/login\">Login</a> </td><td>login with CSRF token (any user/passwd works)</td></tr>\n",
       " <tr><td><a href=\"http://quotes.toscrape.com/search.aspx\">ViewState</a> </td><td>an AJAX based filter form with ViewStates</td></tr>\n",
       " <tr><td><a href=\"http://quotes.toscrape.com/random\">Random</a> </td><td>a single random quote</td></tr>\n",
       " </table>\n",
       " </div>\n",
       " </div>\n",
       " </div>\n",
       " </div>\n",
       " </body>,\n",
       " '\\n']"
      ]
     },
     "execution_count": 28,
     "metadata": {},
     "output_type": "execute_result"
    }
   ],
   "source": [
    "list(html.children)"
   ]
  },
  {
   "cell_type": "code",
   "execution_count": 30,
   "metadata": {},
   "outputs": [
    {
     "data": {
      "text/plain": [
       "['\\n',\n",
       " <div class=\"container\">\n",
       " <div class=\"row\">\n",
       " <div class=\"col-md-1\"></div>\n",
       " <div class=\"col-md-10 well\">\n",
       " <img class=\"logo\" src=\"img/sh-logo.png\" width=\"200px\"/>\n",
       " <h1 class=\"text-right\">Web Scraping Sandbox</h1>\n",
       " </div>\n",
       " </div>\n",
       " <div class=\"row\">\n",
       " <div class=\"col-md-1\"></div>\n",
       " <div class=\"col-md-10\">\n",
       " <h2>Books</h2>\n",
       " <p>A <a href=\"http://books.toscrape.com\">fictional bookstore</a> that desperately wants to be scraped. It's a safe place for beginners learning web scraping and for developers validating their scraping technologies as well. Available at: <a href=\"http://books.toscrape.com\">books.toscrape.com</a></p>\n",
       " <div class=\"col-md-6\">\n",
       " <a href=\"http://books.toscrape.com\"><img class=\"img-thumbnail\" src=\"./img/books.png\"/></a>\n",
       " </div>\n",
       " <div class=\"col-md-6\">\n",
       " <table class=\"table table-hover\">\n",
       " <tr><th colspan=\"2\">Details</th></tr>\n",
       " <tr><td>Amount of items </td><td>1000</td></tr>\n",
       " <tr><td>Pagination </td><td>✔</td></tr>\n",
       " <tr><td>Items per page </td><td>max 20</td></tr>\n",
       " <tr><td>Requires JavaScript </td><td>✘</td></tr>\n",
       " </table>\n",
       " </div>\n",
       " </div>\n",
       " </div>\n",
       " <div class=\"row\">\n",
       " <div class=\"col-md-1\"></div>\n",
       " <div class=\"col-md-10\">\n",
       " <h2>Quotes</h2>\n",
       " <p><a href=\"http://quotes.toscrape.com/\">A website</a> that lists quotes from famous people. It has many endpoints showing the quotes in many different ways, each of them including new scraping challenges for you, as described below.</p>\n",
       " <div class=\"col-md-6\">\n",
       " <a href=\"http://quotes.toscrape.com\"><img class=\"img-thumbnail\" src=\"./img/quotes.png\"/></a>\n",
       " </div>\n",
       " <div class=\"col-md-6\">\n",
       " <table class=\"table table-hover\">\n",
       " <tr><th colspan=\"2\">Endpoints</th></tr>\n",
       " <tr><td><a href=\"http://quotes.toscrape.com/\">Default</a></td><td>Microdata and pagination</td></tr>\n",
       " <tr><td><a href=\"http://quotes.toscrape.com/scroll\">Scroll</a> </td><td>infinite scrolling pagination</td></tr>\n",
       " <tr><td><a href=\"http://quotes.toscrape.com/js\">JavaScript</a> </td><td>JavaScript generated content</td></tr>\n",
       " <tr><td><a href=\"http://quotes.toscrape.com/js-delayed\">Delayed</a> </td><td>Same as JavaScript but with a delay (?delay=10000)</td></tr>\n",
       " <tr><td><a href=\"http://quotes.toscrape.com/tableful\">Tableful</a> </td><td>a table based messed-up layout</td></tr>\n",
       " <tr><td><a href=\"http://quotes.toscrape.com/login\">Login</a> </td><td>login with CSRF token (any user/passwd works)</td></tr>\n",
       " <tr><td><a href=\"http://quotes.toscrape.com/search.aspx\">ViewState</a> </td><td>an AJAX based filter form with ViewStates</td></tr>\n",
       " <tr><td><a href=\"http://quotes.toscrape.com/random\">Random</a> </td><td>a single random quote</td></tr>\n",
       " </table>\n",
       " </div>\n",
       " </div>\n",
       " </div>\n",
       " </div>,\n",
       " '\\n']"
      ]
     },
     "execution_count": 30,
     "metadata": {},
     "output_type": "execute_result"
    }
   ],
   "source": [
    "#isolate the p value (look for the ',' commas, that expalins the index of the tag)\n",
    "body = list(html.children)[3]\n",
    "\n",
    "#get the p tag by finding the children of the body tag\n",
    "list(body.children)"
   ]
  },
  {
   "cell_type": "code",
   "execution_count": 35,
   "metadata": {},
   "outputs": [
    {
     "data": {
      "text/plain": [
       "\"\\n\\n\\n\\n\\nWeb Scraping Sandbox\\n\\n\\n\\n\\n\\nBooks\\nA fictional bookstore that desperately wants to be scraped. It's a safe place for beginners learning web scraping and for developers validating their scraping technologies as well. Available at: books.toscrape.com\\n\\n\\n\\n\\n\\nDetails\\nAmount of items 1000\\nPagination ✔\\nItems per page max 20\\nRequires JavaScript ✘\\n\\n\\n\\n\\n\\n\\n\\nQuotes\\nA website that lists quotes from famous people. It has many endpoints showing the quotes in many different ways, each of them including new scraping challenges for you, as described below.\\n\\n\\n\\n\\n\\nEndpoints\\nDefaultMicrodata and pagination\\nScroll infinite scrolling pagination\\nJavaScript JavaScript generated content\\nDelayed Same as JavaScript but with a delay (?delay=10000)\\nTableful a table based messed-up layout\\nLogin login with CSRF token (any user/passwd works)\\nViewState an AJAX based filter form with ViewStates\\nRandom a single random quote\\n\\n\\n\\n\\n\""
      ]
     },
     "execution_count": 35,
     "metadata": {},
     "output_type": "execute_result"
    }
   ],
   "source": [
    "#isolate the p tage\n",
    "p = list(body.children)[1]\n",
    "\n",
    "#use the get_test() method to extract all text inside the tag\n",
    "p.get_text()"
   ]
  },
  {
   "cell_type": "code",
   "execution_count": 44,
   "metadata": {},
   "outputs": [
    {
     "data": {
      "text/plain": [
       "'A website that lists quotes from famous people. It has many endpoints showing the quotes in many different ways, each of them including new scraping challenges for you, as described below.'"
      ]
     },
     "execution_count": 44,
     "metadata": {},
     "output_type": "execute_result"
    }
   ],
   "source": [
    "#use the find_all()) method to extract all particular elment inside the tag\n",
    "soup.find_all('p')\n",
    "\n",
    "#To get the text of the element \n",
    "\n",
    "soup.find_all('p')[1].get_text()"
   ]
  },
  {
   "cell_type": "code",
   "execution_count": 49,
   "metadata": {},
   "outputs": [
    {
     "name": "stdout",
     "output_type": "stream",
     "text": [
      "<html>\n",
      " <head>\n",
      "  <title>\n",
      "   A simple example page\n",
      "  </title>\n",
      " </head>\n",
      " <body>\n",
      "  <div>\n",
      "   <p class=\"inner-text first-item\" id=\"first\">\n",
      "    First paragraph.\n",
      "   </p>\n",
      "   <p class=\"inner-text\">\n",
      "    Second paragraph.\n",
      "   </p>\n",
      "  </div>\n",
      "  <p class=\"outer-text first-item\" id=\"second\">\n",
      "   <b>\n",
      "    First outer paragraph.\n",
      "   </b>\n",
      "  </p>\n",
      "  <p class=\"outer-text\">\n",
      "   <b>\n",
      "    Second outer paragraph.\n",
      "   </b>\n",
      "  </p>\n",
      " </body>\n",
      "</html>\n"
     ]
    }
   ],
   "source": [
    "#download another page\n",
    "page1 = requests.get(\"http://dataquestio.github.io/web-scraping-pages/ids_and_classes.html\")\n",
    "soup1 = BeautifulSoup(page1.content, 'html.parser')\n",
    "print(soup1.prettify())"
   ]
  },
  {
   "cell_type": "code",
   "execution_count": 50,
   "metadata": {},
   "outputs": [
    {
     "data": {
      "text/plain": [
       "[<p class=\"outer-text first-item\" id=\"second\">\n",
       " <b>\n",
       "                 First outer paragraph.\n",
       "             </b>\n",
       " </p>,\n",
       " <p class=\"outer-text\">\n",
       " <b>\n",
       "                 Second outer paragraph.\n",
       "             </b>\n",
       " </p>]"
      ]
     },
     "execution_count": 50,
     "metadata": {},
     "output_type": "execute_result"
    }
   ],
   "source": [
    "#search for any p tag that has the class outer-text\n",
    "soup1.find_all('p', class_='outer-text')"
   ]
  },
  {
   "cell_type": "code",
   "execution_count": null,
   "metadata": {},
   "outputs": [],
   "source": []
  }
 ],
 "metadata": {
  "kernelspec": {
   "display_name": "Python 3",
   "language": "python",
   "name": "python3"
  },
  "language_info": {
   "codemirror_mode": {
    "name": "ipython",
    "version": 3
   },
   "file_extension": ".py",
   "mimetype": "text/x-python",
   "name": "python",
   "nbconvert_exporter": "python",
   "pygments_lexer": "ipython3",
   "version": "3.8.1"
  }
 },
 "nbformat": 4,
 "nbformat_minor": 4
}
